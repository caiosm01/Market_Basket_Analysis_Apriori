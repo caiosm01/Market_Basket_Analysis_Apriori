{
 "cells": [
  {
   "cell_type": "markdown",
   "id": "d3eb940e",
   "metadata": {},
   "source": [
    "# Análise de Dados\n",
    "\n",
    "## Market Basket Analysis\n",
    "\n",
    "\n",
    "A análise de cesta de mercado é amplamente utilizada no setor de varejo, onde os dados de vendas são processados e analisados para conseguir entender os padrões de compra dos clientes e assim, alcançar as melhores estratégias de venda.\n",
    "\n",
    "Para o presente estudo, será utilizada uma base de dados do setor varejista, com aplicação do algoritmo Apriori, que consiste na mineração de conjuntos de itens frequentes, ou seja, ele agrupa os itens que mais são comprados juntos pelos clientes, indicando suas tendências e correlações.\n",
    "\n",
    "Dataset: "
   ]
  },
  {
   "cell_type": "code",
   "execution_count": 1,
   "id": "227f76fe",
   "metadata": {},
   "outputs": [],
   "source": [
    "import pandas as pd\n",
    "import numpy as np\n",
    "import matplotlib.pyplot as plt\n",
    "from datetime import datetime\n",
    "from mlxtend.frequent_patterns import apriori, association_rules\n",
    "#from mlxtend.preprocessing import TransactionEncoder\n",
    "import warnings\n",
    "import gc\n",
    "from platform import python_version"
   ]
  },
  {
   "cell_type": "code",
   "execution_count": 2,
   "id": "a5702662",
   "metadata": {},
   "outputs": [],
   "source": [
    "warnings.filterwarnings('ignore')"
   ]
  },
  {
   "cell_type": "code",
   "execution_count": 3,
   "id": "8e04b7fe",
   "metadata": {},
   "outputs": [
    {
     "name": "stdout",
     "output_type": "stream",
     "text": [
      "Versão do python:  3.11.5\n"
     ]
    }
   ],
   "source": [
    "\n",
    "print(\"Versão do python: \",python_version())"
   ]
  },
  {
   "cell_type": "code",
   "execution_count": 4,
   "id": "0b2f5b39",
   "metadata": {},
   "outputs": [],
   "source": [
    "tabelas = {'corredores':pd.read_csv(r\"datasets\\aisles.csv\"), \n",
    "           'departamentos':pd.read_csv(r\"datasets\\departments.csv\"), \n",
    "           'pedidos':pd.read_csv(r\"datasets\\orders.csv\"), \n",
    "           'produtos':pd.read_csv(r\"datasets\\products.csv\"), \n",
    "           'pedidos_anteriores':pd.read_csv(r\"datasets\\order_products__prior.csv\"), \n",
    "           'pedidos_treino':pd.read_csv(r\"datasets\\order_products__train.csv\")}"
   ]
  },
  {
   "cell_type": "code",
   "execution_count": null,
   "id": "a368cfe4",
   "metadata": {
    "scrolled": true
   },
   "outputs": [],
   "source": [
    "# Quantidade de registros em cada tabela\n",
    "contagem_registros = np.array([])\n",
    "contagem_registros = pd.DataFrame([np.append(contagem_registros,[tabela[0],len(tabela[1])]) for tabela in tabelas.items()], columns = ['Tabela', 'Quantidade de registros'])\n",
    "contagem_registros"
   ]
  },
  {
   "cell_type": "code",
   "execution_count": null,
   "id": "4e9b6994",
   "metadata": {
    "scrolled": true
   },
   "outputs": [],
   "source": [
    "dados_nulos = [{tabela[0]: tabela[1].isna().sum()} for tabela in tabelas.items() if tabela[1].isna().sum().any()!=0]\n",
    "dados_nulos"
   ]
  },
  {
   "cell_type": "markdown",
   "id": "be308756",
   "metadata": {},
   "source": [
    "#### Vamos agrupar os produtos pedidos em cada ordem"
   ]
  },
  {
   "cell_type": "code",
   "execution_count": 5,
   "id": "e3df4fd1",
   "metadata": {},
   "outputs": [],
   "source": [
    "file_path = r\"datasets\\order_products__prior.csv\"\n",
    "chunk_size = 100000\n",
    "min_support = 0.01\n",
    "min_confidence = 0.2\n",
    "max_rows = 500000\n",
    "all_frequent_itemsets = pd.DataFrame()\n",
    "total_transactions = 0\n",
    "count = 0"
   ]
  },
  {
   "cell_type": "code",
   "execution_count": 6,
   "id": "67c40092",
   "metadata": {},
   "outputs": [],
   "source": [
    "# Função para processar cada lote\n",
    "def process_chunk(chunk):\n",
    "    # Codificação dos dados\n",
    "    data_encoded = pd.get_dummies(chunk.sort_values(['order_id', 'add_to_cart_order'], ascending=[True, True])[['order_id', 'product_id']].astype('int32'), columns=['product_id'])\n",
    "    data_encoded.columns = data_encoded.columns.str.replace(\"product_id_\", \"\")\n",
    "    #display(data_encoded)\n",
    "    \n",
    "    # Criação do DataFrame basket\n",
    "    basket = data_encoded.groupby('order_id').sum()\n",
    "    basket[basket > 0] = True\n",
    "    basket[basket == 0] = False\n",
    "\n",
    "    # Aplicação do algoritmo Apriori\n",
    "    frequent_itemsets = apriori(basket, min_support=min_support, use_colnames=True)\n",
    "    \n",
    "    return frequent_itemsets"
   ]
  },
  {
   "cell_type": "code",
   "execution_count": 7,
   "id": "0bee3306",
   "metadata": {},
   "outputs": [],
   "source": [
    "for chunk in pd.read_csv(file_path, chunksize=chunk_size):\n",
    "    if total_transactions >= max_rows:\n",
    "        break\n",
    "    \n",
    "    # Limitar o número de linhas do chunk caso exceda o máximo permitido\n",
    "    if total_transactions + len(chunk) > max_rows:\n",
    "        chunk = chunk.iloc[:max_rows - total_transactions]\n",
    "    \n",
    "    # Atualizar a contagem total de transações\n",
    "    total_transactions += len(chunk)\n",
    "        \n",
    "    count += 1\n",
    "    \n",
    "    # Processar o chunk e obter os frequent itemsets\n",
    "    frequent_itemsets = process_chunk(chunk)\n",
    "    \n",
    "    # Acumular os resultados\n",
    "    all_frequent_itemsets = pd.concat([all_frequent_itemsets, frequent_itemsets])\n",
    "    \n",
    "    # Limpar a memória\n",
    "    del chunk\n",
    "    gc.collect()\n"
   ]
  },
  {
   "cell_type": "code",
   "execution_count": null,
   "id": "0abc6bad",
   "metadata": {},
   "outputs": [],
   "source": [
    "all_frequent_itemsets_mean = all_frequent_itemsets.groupby('itemsets').agg(\n",
    "    support=('support', 'mean'),\n",
    "    count=('support', 'size')\n",
    ").reset_index()\n",
    "\n",
    "all_frequent_itemsets_mean['peso'] = all_frequent_itemsets_mean['count']/count\n",
    "all_frequent_itemsets_mean = all_frequent_itemsets_mean[all_frequent_itemsets_mean['peso'] >= 0.6]\n",
    "all_frequent_itemsets_mean = all_frequent_itemsets_mean[['itemsets', 'support']]\n",
    "all_frequent_itemsets_mean"
   ]
  },
  {
   "cell_type": "code",
   "execution_count": null,
   "id": "9857e944",
   "metadata": {},
   "outputs": [],
   "source": [
    "rules = association_rules(all_frequent_itemsets_mean, metric=\"confidence\", min_threshold=min_confidence)\n",
    "rules = rules.sort_values(['confidence', 'lift'], ascending=[False, False])\n",
    "\n",
    "# Exibir as regras\n",
    "rules"
   ]
  },
  {
   "cell_type": "code",
   "execution_count": null,
   "id": "fd02c102",
   "metadata": {},
   "outputs": [],
   "source": [
    "id_to_name = dict(zip(tabelas['produtos']['product_id'], tabelas['produtos']['product_name']))"
   ]
  },
  {
   "cell_type": "code",
   "execution_count": null,
   "id": "cf28c0e1",
   "metadata": {},
   "outputs": [],
   "source": [
    "def map_ids_to_names(itemset):\n",
    "    return frozenset([id_to_name[int(item)] for item in itemset])"
   ]
  },
  {
   "cell_type": "code",
   "execution_count": null,
   "id": "d7e6b4d2",
   "metadata": {},
   "outputs": [],
   "source": [
    "rules['antecedents'] = rules['antecedents'].apply(map_ids_to_names)\n",
    "rules['consequents'] = rules['consequents'].apply(map_ids_to_names)"
   ]
  },
  {
   "cell_type": "code",
   "execution_count": null,
   "id": "7f326ede",
   "metadata": {},
   "outputs": [],
   "source": [
    "rules.sort_values(by = 'confidence', ascending = False)"
   ]
  }
 ],
 "metadata": {
  "kernelspec": {
   "display_name": "Python 3 (ipykernel)",
   "language": "python",
   "name": "python3"
  },
  "language_info": {
   "codemirror_mode": {
    "name": "ipython",
    "version": 3
   },
   "file_extension": ".py",
   "mimetype": "text/x-python",
   "name": "python",
   "nbconvert_exporter": "python",
   "pygments_lexer": "ipython3",
   "version": "3.11.5"
  }
 },
 "nbformat": 4,
 "nbformat_minor": 5
}
