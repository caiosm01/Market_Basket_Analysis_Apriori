{
 "cells": [
  {
   "cell_type": "markdown",
   "id": "d3eb940e",
   "metadata": {},
   "source": [
    "# Análise de Dados\n",
    "\n",
    "## Market Basket Analysis\n",
    "\n",
    "\n",
    "A análise de cesta de mercado é amplamente utilizada no setor de varejo, onde os dados de vendas são processados e analisados para conseguir entender os padrões de compra dos clientes e assim, alcançar as melhores estratégias de venda.\n",
    "\n",
    "Para o presente estudo, será utilizada uma base de dados do setor varejista, com aplicação do algoritmo Apriori, que consiste na mineração de conjuntos de itens frequentes, ou seja, ele agrupa os itens que mais são comprados juntos pelos clientes, indicando suas tendências e correlações.\n",
    "\n",
    "Dataset: "
   ]
  },
  {
   "cell_type": "code",
   "execution_count": 1,
   "id": "5b4d2e71",
   "metadata": {},
   "outputs": [],
   "source": [
    "!pip install -q efficient_apriori"
   ]
  },
  {
   "cell_type": "code",
   "execution_count": 2,
   "id": "227f76fe",
   "metadata": {},
   "outputs": [],
   "source": [
    "import pandas as pd\n",
    "import numpy as np\n",
    "import matplotlib.pyplot as plt\n",
    "import efficient_apriori\n",
    "from platform import python_version"
   ]
  },
  {
   "cell_type": "code",
   "execution_count": 3,
   "id": "8e04b7fe",
   "metadata": {},
   "outputs": [
    {
     "name": "stdout",
     "output_type": "stream",
     "text": [
      "Versão do python:  3.10.9\n"
     ]
    }
   ],
   "source": [
    "print(\"Versão do python: \",python_version())"
   ]
  },
  {
   "cell_type": "code",
   "execution_count": 4,
   "id": "6ae272b1",
   "metadata": {},
   "outputs": [
    {
     "data": {
      "text/plain": [
       "'corredores = pd.read_csv(r\"datasets\\x07isles.csv\")\\ndepartamentos = pd.read_csv(r\"datasets\\\\departments.csv\")\\npedidos = pd.read_csv(r\"datasets\\\\orders.csv\")\\nprodutos = pd.read_csv(r\"datasets\\\\products.csv\")\\npedidos_anteriores = pd.read_csv(r\"datasets\\\\order_products__prior.csv\")\\npedidos_treino = pd.read_csv(r\"datasets\\\\order_products__train.csv\")'"
      ]
     },
     "execution_count": 4,
     "metadata": {},
     "output_type": "execute_result"
    }
   ],
   "source": [
    "'''corredores = pd.read_csv(r\"datasets\\aisles.csv\")\n",
    "departamentos = pd.read_csv(r\"datasets\\departments.csv\")\n",
    "pedidos = pd.read_csv(r\"datasets\\orders.csv\")\n",
    "produtos = pd.read_csv(r\"datasets\\products.csv\")\n",
    "pedidos_anteriores = pd.read_csv(r\"datasets\\order_products__prior.csv\")\n",
    "pedidos_treino = pd.read_csv(r\"datasets\\order_products__train.csv\")'''"
   ]
  },
  {
   "cell_type": "code",
   "execution_count": 5,
   "id": "bb907e35",
   "metadata": {},
   "outputs": [
    {
     "data": {
      "text/plain": [
       "\"tabelas = {'corredores':corredores, \\n           'departamentos':departamentos, \\n           'pedidos':pedidos, \\n           'produtos':produtos, \\n           'pedidos_anteriores':pedidos_anteriores, \\n           'pedidos_treino':pedidos_treino}\""
      ]
     },
     "execution_count": 5,
     "metadata": {},
     "output_type": "execute_result"
    }
   ],
   "source": [
    "'''tabelas = {'corredores':corredores, \n",
    "           'departamentos':departamentos, \n",
    "           'pedidos':pedidos, \n",
    "           'produtos':produtos, \n",
    "           'pedidos_anteriores':pedidos_anteriores, \n",
    "           'pedidos_treino':pedidos_treino}'''"
   ]
  },
  {
   "cell_type": "code",
   "execution_count": 6,
   "id": "0b2f5b39",
   "metadata": {},
   "outputs": [],
   "source": [
    "tabelas = {'corredores':pd.read_csv(r\"datasets\\aisles.csv\"), \n",
    "           'departamentos':pd.read_csv(r\"datasets\\departments.csv\"), \n",
    "           'pedidos':pd.read_csv(r\"datasets\\orders.csv\"), \n",
    "           'produtos':pd.read_csv(r\"datasets\\products.csv\"), \n",
    "           'pedidos_anteriores':pd.read_csv(r\"datasets\\order_products__prior.csv\"), \n",
    "           'pedidos_treino':pd.read_csv(r\"datasets\\order_products__train.csv\")}"
   ]
  },
  {
   "cell_type": "code",
   "execution_count": 7,
   "id": "a368cfe4",
   "metadata": {
    "scrolled": true
   },
   "outputs": [
    {
     "data": {
      "text/html": [
       "<div>\n",
       "<style scoped>\n",
       "    .dataframe tbody tr th:only-of-type {\n",
       "        vertical-align: middle;\n",
       "    }\n",
       "\n",
       "    .dataframe tbody tr th {\n",
       "        vertical-align: top;\n",
       "    }\n",
       "\n",
       "    .dataframe thead th {\n",
       "        text-align: right;\n",
       "    }\n",
       "</style>\n",
       "<table border=\"1\" class=\"dataframe\">\n",
       "  <thead>\n",
       "    <tr style=\"text-align: right;\">\n",
       "      <th></th>\n",
       "      <th>Tabela</th>\n",
       "      <th>Quantidade de registros</th>\n",
       "    </tr>\n",
       "  </thead>\n",
       "  <tbody>\n",
       "    <tr>\n",
       "      <th>0</th>\n",
       "      <td>corredores</td>\n",
       "      <td>134</td>\n",
       "    </tr>\n",
       "    <tr>\n",
       "      <th>1</th>\n",
       "      <td>departamentos</td>\n",
       "      <td>21</td>\n",
       "    </tr>\n",
       "    <tr>\n",
       "      <th>2</th>\n",
       "      <td>pedidos</td>\n",
       "      <td>3421083</td>\n",
       "    </tr>\n",
       "    <tr>\n",
       "      <th>3</th>\n",
       "      <td>produtos</td>\n",
       "      <td>49688</td>\n",
       "    </tr>\n",
       "    <tr>\n",
       "      <th>4</th>\n",
       "      <td>pedidos_anteriores</td>\n",
       "      <td>32434489</td>\n",
       "    </tr>\n",
       "    <tr>\n",
       "      <th>5</th>\n",
       "      <td>pedidos_treino</td>\n",
       "      <td>1384617</td>\n",
       "    </tr>\n",
       "  </tbody>\n",
       "</table>\n",
       "</div>"
      ],
      "text/plain": [
       "               Tabela Quantidade de registros\n",
       "0          corredores                     134\n",
       "1       departamentos                      21\n",
       "2             pedidos                 3421083\n",
       "3            produtos                   49688\n",
       "4  pedidos_anteriores                32434489\n",
       "5      pedidos_treino                 1384617"
      ]
     },
     "execution_count": 7,
     "metadata": {},
     "output_type": "execute_result"
    }
   ],
   "source": [
    "# Quantidade de registros em cada tabela\n",
    "contagem_registros = np.array([])\n",
    "contagem_registros = pd.DataFrame([np.append(contagem_registros,[tabela[0],len(tabela[1])]) for tabela in tabelas.items()], columns = ['Tabela', 'Quantidade de registros'])\n",
    "contagem_registros"
   ]
  },
  {
   "cell_type": "code",
   "execution_count": 8,
   "id": "4e9b6994",
   "metadata": {
    "scrolled": true
   },
   "outputs": [
    {
     "data": {
      "text/plain": [
       "[{'pedidos': order_id                       0\n",
       "  user_id                        0\n",
       "  eval_set                       0\n",
       "  order_number                   0\n",
       "  order_dow                      0\n",
       "  order_hour_of_day              0\n",
       "  days_since_prior_order    206209\n",
       "  dtype: int64}]"
      ]
     },
     "execution_count": 8,
     "metadata": {},
     "output_type": "execute_result"
    }
   ],
   "source": [
    "dados_nulos = [{tabela[0]: tabela[1].isna().sum()} for tabela in tabelas.items() if tabela[1].isna().sum().any()!=0]\n",
    "dados_nulos"
   ]
  },
  {
   "cell_type": "markdown",
   "id": "be308756",
   "metadata": {},
   "source": [
    "#### Vamos agrupar os produtos pedidos em cada ordem"
   ]
  },
  {
   "cell_type": "code",
   "execution_count": 9,
   "id": "54d02726",
   "metadata": {
    "scrolled": false
   },
   "outputs": [
    {
     "name": "stdout",
     "output_type": "stream",
     "text": [
      "CPU times: total: 2min 18s\n",
      "Wall time: 2min 19s\n"
     ]
    }
   ],
   "source": [
    "%%time\n",
    "pedidos_agrupados = pd.DataFrame(tabelas['pedidos_anteriores'].groupby('order_id')['product_id'])"
   ]
  },
  {
   "cell_type": "code",
   "execution_count": 10,
   "id": "63132d96",
   "metadata": {},
   "outputs": [
    {
     "data": {
      "text/html": [
       "<div>\n",
       "<style scoped>\n",
       "    .dataframe tbody tr th:only-of-type {\n",
       "        vertical-align: middle;\n",
       "    }\n",
       "\n",
       "    .dataframe tbody tr th {\n",
       "        vertical-align: top;\n",
       "    }\n",
       "\n",
       "    .dataframe thead th {\n",
       "        text-align: right;\n",
       "    }\n",
       "</style>\n",
       "<table border=\"1\" class=\"dataframe\">\n",
       "  <thead>\n",
       "    <tr style=\"text-align: right;\">\n",
       "      <th></th>\n",
       "      <th>0</th>\n",
       "      <th>1</th>\n",
       "    </tr>\n",
       "  </thead>\n",
       "  <tbody>\n",
       "    <tr>\n",
       "      <th>0</th>\n",
       "      <td>2</td>\n",
       "      <td>0    33120\n",
       "1    28985\n",
       "2     9327\n",
       "3    45918\n",
       "4 ...</td>\n",
       "    </tr>\n",
       "    <tr>\n",
       "      <th>1</th>\n",
       "      <td>3</td>\n",
       "      <td>9     33754\n",
       "10    24838\n",
       "11    17704\n",
       "12    2190...</td>\n",
       "    </tr>\n",
       "    <tr>\n",
       "      <th>2</th>\n",
       "      <td>4</td>\n",
       "      <td>17    46842\n",
       "18    26434\n",
       "19    39758\n",
       "20    2776...</td>\n",
       "    </tr>\n",
       "    <tr>\n",
       "      <th>3</th>\n",
       "      <td>5</td>\n",
       "      <td>30    13176\n",
       "31    15005\n",
       "32    47329\n",
       "33    2796...</td>\n",
       "    </tr>\n",
       "    <tr>\n",
       "      <th>4</th>\n",
       "      <td>6</td>\n",
       "      <td>56    40462\n",
       "57    15873\n",
       "58    41897\n",
       "Name: prod...</td>\n",
       "    </tr>\n",
       "  </tbody>\n",
       "</table>\n",
       "</div>"
      ],
      "text/plain": [
       "   0                                                  1\n",
       "0  2  0    33120\n",
       "1    28985\n",
       "2     9327\n",
       "3    45918\n",
       "4 ...\n",
       "1  3  9     33754\n",
       "10    24838\n",
       "11    17704\n",
       "12    2190...\n",
       "2  4  17    46842\n",
       "18    26434\n",
       "19    39758\n",
       "20    2776...\n",
       "3  5  30    13176\n",
       "31    15005\n",
       "32    47329\n",
       "33    2796...\n",
       "4  6  56    40462\n",
       "57    15873\n",
       "58    41897\n",
       "Name: prod..."
      ]
     },
     "execution_count": 10,
     "metadata": {},
     "output_type": "execute_result"
    }
   ],
   "source": [
    "pedidos_agrupados.head()"
   ]
  },
  {
   "cell_type": "code",
   "execution_count": 11,
   "id": "423c4250",
   "metadata": {},
   "outputs": [],
   "source": [
    "produtos = []"
   ]
  },
  {
   "cell_type": "code",
   "execution_count": 12,
   "id": "0db0240f",
   "metadata": {},
   "outputs": [
    {
     "name": "stdout",
     "output_type": "stream",
     "text": [
      "CPU times: total: 6min 5s\n",
      "Wall time: 6min 5s\n"
     ]
    }
   ],
   "source": [
    "%%time\n",
    "for i in range(len(pedidos_agrupados[0])):\n",
    "    produtos.append(list(pedidos_agrupados.iloc[i][1]))"
   ]
  },
  {
   "cell_type": "code",
   "execution_count": 16,
   "id": "b50d0630",
   "metadata": {},
   "outputs": [],
   "source": [
    "transacoes = pd.DataFrame({'OrderID' : pedidos_agrupados[0], 'Products' : produtos})"
   ]
  },
  {
   "cell_type": "code",
   "execution_count": 17,
   "id": "5d7d8d19",
   "metadata": {},
   "outputs": [
    {
     "data": {
      "text/html": [
       "<div>\n",
       "<style scoped>\n",
       "    .dataframe tbody tr th:only-of-type {\n",
       "        vertical-align: middle;\n",
       "    }\n",
       "\n",
       "    .dataframe tbody tr th {\n",
       "        vertical-align: top;\n",
       "    }\n",
       "\n",
       "    .dataframe thead th {\n",
       "        text-align: right;\n",
       "    }\n",
       "</style>\n",
       "<table border=\"1\" class=\"dataframe\">\n",
       "  <thead>\n",
       "    <tr style=\"text-align: right;\">\n",
       "      <th></th>\n",
       "      <th>OrderID</th>\n",
       "      <th>Products</th>\n",
       "    </tr>\n",
       "  </thead>\n",
       "  <tbody>\n",
       "    <tr>\n",
       "      <th>0</th>\n",
       "      <td>2</td>\n",
       "      <td>[33120, 28985, 9327, 45918, 30035, 17794, 4014...</td>\n",
       "    </tr>\n",
       "    <tr>\n",
       "      <th>1</th>\n",
       "      <td>3</td>\n",
       "      <td>[33754, 24838, 17704, 21903, 17668, 46667, 174...</td>\n",
       "    </tr>\n",
       "    <tr>\n",
       "      <th>2</th>\n",
       "      <td>4</td>\n",
       "      <td>[46842, 26434, 39758, 27761, 10054, 21351, 225...</td>\n",
       "    </tr>\n",
       "    <tr>\n",
       "      <th>3</th>\n",
       "      <td>5</td>\n",
       "      <td>[13176, 15005, 47329, 27966, 23909, 48370, 132...</td>\n",
       "    </tr>\n",
       "    <tr>\n",
       "      <th>4</th>\n",
       "      <td>6</td>\n",
       "      <td>[40462, 15873, 41897]</td>\n",
       "    </tr>\n",
       "    <tr>\n",
       "      <th>...</th>\n",
       "      <td>...</td>\n",
       "      <td>...</td>\n",
       "    </tr>\n",
       "    <tr>\n",
       "      <th>3214869</th>\n",
       "      <td>3421079</td>\n",
       "      <td>[30136]</td>\n",
       "    </tr>\n",
       "    <tr>\n",
       "      <th>3214870</th>\n",
       "      <td>3421080</td>\n",
       "      <td>[27845, 4932, 18811, 41950, 31717, 12935, 2512...</td>\n",
       "    </tr>\n",
       "    <tr>\n",
       "      <th>3214871</th>\n",
       "      <td>3421081</td>\n",
       "      <td>[38185, 12218, 32299, 3060, 20539, 35221, 12861]</td>\n",
       "    </tr>\n",
       "    <tr>\n",
       "      <th>3214872</th>\n",
       "      <td>3421082</td>\n",
       "      <td>[17279, 12738, 16797, 43352, 32700, 12023, 47941]</td>\n",
       "    </tr>\n",
       "    <tr>\n",
       "      <th>3214873</th>\n",
       "      <td>3421083</td>\n",
       "      <td>[7854, 45309, 21162, 18176, 35211, 39678, 1135...</td>\n",
       "    </tr>\n",
       "  </tbody>\n",
       "</table>\n",
       "<p>3214874 rows × 2 columns</p>\n",
       "</div>"
      ],
      "text/plain": [
       "         OrderID                                           Products\n",
       "0              2  [33120, 28985, 9327, 45918, 30035, 17794, 4014...\n",
       "1              3  [33754, 24838, 17704, 21903, 17668, 46667, 174...\n",
       "2              4  [46842, 26434, 39758, 27761, 10054, 21351, 225...\n",
       "3              5  [13176, 15005, 47329, 27966, 23909, 48370, 132...\n",
       "4              6                              [40462, 15873, 41897]\n",
       "...          ...                                                ...\n",
       "3214869  3421079                                            [30136]\n",
       "3214870  3421080  [27845, 4932, 18811, 41950, 31717, 12935, 2512...\n",
       "3214871  3421081   [38185, 12218, 32299, 3060, 20539, 35221, 12861]\n",
       "3214872  3421082  [17279, 12738, 16797, 43352, 32700, 12023, 47941]\n",
       "3214873  3421083  [7854, 45309, 21162, 18176, 35211, 39678, 1135...\n",
       "\n",
       "[3214874 rows x 2 columns]"
      ]
     },
     "execution_count": 17,
     "metadata": {},
     "output_type": "execute_result"
    }
   ],
   "source": [
    "transacoes"
   ]
  },
  {
   "cell_type": "code",
   "execution_count": 19,
   "id": "dd2d89de",
   "metadata": {},
   "outputs": [],
   "source": [
    "transacoes.to_csv(\"transacoes.csv\")"
   ]
  }
 ],
 "metadata": {
  "kernelspec": {
   "display_name": "Python 3 (ipykernel)",
   "language": "python",
   "name": "python3"
  },
  "language_info": {
   "codemirror_mode": {
    "name": "ipython",
    "version": 3
   },
   "file_extension": ".py",
   "mimetype": "text/x-python",
   "name": "python",
   "nbconvert_exporter": "python",
   "pygments_lexer": "ipython3",
   "version": "3.10.9"
  }
 },
 "nbformat": 4,
 "nbformat_minor": 5
}
