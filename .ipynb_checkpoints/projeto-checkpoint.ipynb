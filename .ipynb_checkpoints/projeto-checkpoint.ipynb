{
 "cells": [
  {
   "cell_type": "markdown",
   "id": "d3eb940e",
   "metadata": {},
   "source": [
    "# Análise de Dados\n",
    "\n",
    "## Market Basket Analysis\n",
    "\n",
    "\n",
    "A análise de cesta de mercado é amplamente utilizada no setor de varejo, onde os dados de vendas são processados e analisados para conseguir entender os padrões de compra dos clientes e assim, alcançar as melhores estratégias de venda.\n",
    "\n",
    "Para o presente estudo, será utilizada uma base de dados do setor varejista, com aplicação do algoritmo Apriori, que consiste na mineração de conjuntos de itens frequentes, ou seja, ele agrupa os itens que mais são comprados juntos pelos clientes, indicando suas tendências e correlações.\n",
    "\n",
    "Dataset: "
   ]
  },
  {
   "cell_type": "code",
   "execution_count": 16,
   "id": "227f76fe",
   "metadata": {},
   "outputs": [],
   "source": [
    "import pandas as pd\n",
    "import numpy as np\n",
    "import matplotlib.pyplot as plt\n",
    "from datetime import datetime\n",
    "import efficient_apriori\n",
    "from efficient_apriori import apriori\n",
    "from platform import python_version"
   ]
  },
  {
   "cell_type": "code",
   "execution_count": 17,
   "id": "8e04b7fe",
   "metadata": {},
   "outputs": [
    {
     "name": "stdout",
     "output_type": "stream",
     "text": [
      "Versão do python:  3.9.13\n"
     ]
    }
   ],
   "source": [
    "print(\"Versão do python: \",python_version())"
   ]
  },
  {
   "cell_type": "code",
   "execution_count": 18,
   "id": "6ae272b1",
   "metadata": {},
   "outputs": [
    {
     "data": {
      "text/plain": [
       "'corredores = pd.read_csv(r\"datasets\\x07isles.csv\")\\ndepartamentos = pd.read_csv(r\"datasets\\\\departments.csv\")\\npedidos = pd.read_csv(r\"datasets\\\\orders.csv\")\\nprodutos = pd.read_csv(r\"datasets\\\\products.csv\")\\npedidos_anteriores = pd.read_csv(r\"datasets\\\\order_products__prior.csv\")\\npedidos_treino = pd.read_csv(r\"datasets\\\\order_products__train.csv\")'"
      ]
     },
     "execution_count": 18,
     "metadata": {},
     "output_type": "execute_result"
    }
   ],
   "source": [
    "'''corredores = pd.read_csv(r\"datasets\\aisles.csv\")\n",
    "departamentos = pd.read_csv(r\"datasets\\departments.csv\")\n",
    "pedidos = pd.read_csv(r\"datasets\\orders.csv\")\n",
    "produtos = pd.read_csv(r\"datasets\\products.csv\")\n",
    "pedidos_anteriores = pd.read_csv(r\"datasets\\order_products__prior.csv\")\n",
    "pedidos_treino = pd.read_csv(r\"datasets\\order_products__train.csv\")'''"
   ]
  },
  {
   "cell_type": "code",
   "execution_count": 19,
   "id": "bb907e35",
   "metadata": {},
   "outputs": [
    {
     "data": {
      "text/plain": [
       "\"tabelas = {'corredores':corredores, \\n           'departamentos':departamentos, \\n           'pedidos':pedidos, \\n           'produtos':produtos, \\n           'pedidos_anteriores':pedidos_anteriores, \\n           'pedidos_treino':pedidos_treino}\""
      ]
     },
     "execution_count": 19,
     "metadata": {},
     "output_type": "execute_result"
    }
   ],
   "source": [
    "'''tabelas = {'corredores':corredores, \n",
    "           'departamentos':departamentos, \n",
    "           'pedidos':pedidos, \n",
    "           'produtos':produtos, \n",
    "           'pedidos_anteriores':pedidos_anteriores, \n",
    "           'pedidos_treino':pedidos_treino}'''"
   ]
  },
  {
   "cell_type": "code",
   "execution_count": 20,
   "id": "0b2f5b39",
   "metadata": {},
   "outputs": [],
   "source": [
    "tabelas = {'corredores':pd.read_csv(r\"datasets\\aisles.csv\"), \n",
    "           'departamentos':pd.read_csv(r\"datasets\\departments.csv\"), \n",
    "           'pedidos':pd.read_csv(r\"datasets\\orders.csv\"), \n",
    "           'produtos':pd.read_csv(r\"datasets\\products.csv\"), \n",
    "           'pedidos_anteriores':pd.read_csv(r\"datasets\\order_products__prior.csv\"), \n",
    "           'pedidos_treino':pd.read_csv(r\"datasets\\order_products__train.csv\")}"
   ]
  },
  {
   "cell_type": "code",
   "execution_count": 21,
   "id": "a368cfe4",
   "metadata": {
    "scrolled": true
   },
   "outputs": [
    {
     "data": {
      "text/html": [
       "<div>\n",
       "<style scoped>\n",
       "    .dataframe tbody tr th:only-of-type {\n",
       "        vertical-align: middle;\n",
       "    }\n",
       "\n",
       "    .dataframe tbody tr th {\n",
       "        vertical-align: top;\n",
       "    }\n",
       "\n",
       "    .dataframe thead th {\n",
       "        text-align: right;\n",
       "    }\n",
       "</style>\n",
       "<table border=\"1\" class=\"dataframe\">\n",
       "  <thead>\n",
       "    <tr style=\"text-align: right;\">\n",
       "      <th></th>\n",
       "      <th>Tabela</th>\n",
       "      <th>Quantidade de registros</th>\n",
       "    </tr>\n",
       "  </thead>\n",
       "  <tbody>\n",
       "    <tr>\n",
       "      <th>0</th>\n",
       "      <td>corredores</td>\n",
       "      <td>134</td>\n",
       "    </tr>\n",
       "    <tr>\n",
       "      <th>1</th>\n",
       "      <td>departamentos</td>\n",
       "      <td>21</td>\n",
       "    </tr>\n",
       "    <tr>\n",
       "      <th>2</th>\n",
       "      <td>pedidos</td>\n",
       "      <td>3421083</td>\n",
       "    </tr>\n",
       "    <tr>\n",
       "      <th>3</th>\n",
       "      <td>produtos</td>\n",
       "      <td>49688</td>\n",
       "    </tr>\n",
       "    <tr>\n",
       "      <th>4</th>\n",
       "      <td>pedidos_anteriores</td>\n",
       "      <td>32434489</td>\n",
       "    </tr>\n",
       "    <tr>\n",
       "      <th>5</th>\n",
       "      <td>pedidos_treino</td>\n",
       "      <td>1384617</td>\n",
       "    </tr>\n",
       "  </tbody>\n",
       "</table>\n",
       "</div>"
      ],
      "text/plain": [
       "               Tabela Quantidade de registros\n",
       "0          corredores                     134\n",
       "1       departamentos                      21\n",
       "2             pedidos                 3421083\n",
       "3            produtos                   49688\n",
       "4  pedidos_anteriores                32434489\n",
       "5      pedidos_treino                 1384617"
      ]
     },
     "execution_count": 21,
     "metadata": {},
     "output_type": "execute_result"
    }
   ],
   "source": [
    "# Quantidade de registros em cada tabela\n",
    "contagem_registros = np.array([])\n",
    "contagem_registros = pd.DataFrame([np.append(contagem_registros,[tabela[0],len(tabela[1])]) for tabela in tabelas.items()], columns = ['Tabela', 'Quantidade de registros'])\n",
    "contagem_registros"
   ]
  },
  {
   "cell_type": "code",
   "execution_count": null,
   "id": "4e9b6994",
   "metadata": {
    "scrolled": true
   },
   "outputs": [],
   "source": [
    "dados_nulos = [{tabela[0]: tabela[1].isna().sum()} for tabela in tabelas.items() if tabela[1].isna().sum().any()!=0]\n",
    "dados_nulos"
   ]
  },
  {
   "cell_type": "markdown",
   "id": "be308756",
   "metadata": {},
   "source": [
    "#### Vamos agrupar os produtos pedidos em cada ordem"
   ]
  },
  {
   "cell_type": "code",
   "execution_count": null,
   "id": "54d02726",
   "metadata": {
    "scrolled": false
   },
   "outputs": [],
   "source": [
    "#%%time\n",
    "#pedidos_agrupados = pd.DataFrame(tabelas['pedidos_anteriores'].groupby('order_id')['product_id'])'''"
   ]
  },
  {
   "cell_type": "code",
   "execution_count": null,
   "id": "63132d96",
   "metadata": {},
   "outputs": [],
   "source": [
    "#pedidos_agrupados.head()"
   ]
  },
  {
   "cell_type": "code",
   "execution_count": null,
   "id": "423c4250",
   "metadata": {},
   "outputs": [],
   "source": [
    "#produtos = []"
   ]
  },
  {
   "cell_type": "code",
   "execution_count": null,
   "id": "0db0240f",
   "metadata": {},
   "outputs": [],
   "source": [
    "#%%time\n",
    "#for i in range(len(pedidos_agrupados[0])):\n",
    "    #produtos.append(list(pedidos_agrupados.iloc[i][1]))"
   ]
  },
  {
   "cell_type": "code",
   "execution_count": null,
   "id": "b50d0630",
   "metadata": {},
   "outputs": [],
   "source": [
    "#transacoes = pd.DataFrame({'OrderID' : pedidos_agrupados[0], 'Products' : produtos})"
   ]
  },
  {
   "cell_type": "code",
   "execution_count": null,
   "id": "5ab4693e",
   "metadata": {},
   "outputs": [],
   "source": [
    "transacoes = pd.read_csv('datasets/transacoes.csv')"
   ]
  },
  {
   "cell_type": "code",
   "execution_count": null,
   "id": "5d7d8d19",
   "metadata": {},
   "outputs": [],
   "source": [
    "transacoes"
   ]
  },
  {
   "cell_type": "code",
   "execution_count": null,
   "id": "7ebf1a2b",
   "metadata": {},
   "outputs": [],
   "source": [
    "tupla_transacoes = [tuple(row) for row in transacoes['Products'].tolist()]"
   ]
  },
  {
   "cell_type": "code",
   "execution_count": null,
   "id": "1c53273d",
   "metadata": {},
   "outputs": [],
   "source": [
    "tupla_transacoes[0]"
   ]
  },
  {
   "cell_type": "code",
   "execution_count": null,
   "id": "954b8842",
   "metadata": {},
   "outputs": [],
   "source": [
    "st = datetime.now()\n",
    "itemsets_ap, rules_ap = apriori(tupla_transacoes[:500000], min_support = 0.01, min_confidence = 0.2)\n",
    "print('Tempo de Execução : ', datetime.now() - st)"
   ]
  },
  {
   "cell_type": "code",
   "execution_count": null,
   "id": "442becc8",
   "metadata": {},
   "outputs": [],
   "source": [
    "rules_ap"
   ]
  }
 ],
 "metadata": {
  "kernelspec": {
   "display_name": "Python 3 (ipykernel)",
   "language": "python",
   "name": "python3"
  },
  "language_info": {
   "codemirror_mode": {
    "name": "ipython",
    "version": 3
   },
   "file_extension": ".py",
   "mimetype": "text/x-python",
   "name": "python",
   "nbconvert_exporter": "python",
   "pygments_lexer": "ipython3",
   "version": "3.9.13"
  }
 },
 "nbformat": 4,
 "nbformat_minor": 5
}
